{
  "nbformat": 4,
  "nbformat_minor": 0,
  "metadata": {
    "colab": {
      "name": "checkpoint 2.ipynb",
      "provenance": []
    },
    "kernelspec": {
      "name": "python3",
      "display_name": "Python 3"
    },
    "language_info": {
      "name": "python"
    }
  },
  "cells": [
    {
      "cell_type": "code",
      "execution_count": null,
      "metadata": {
        "colab": {
          "base_uri": "https://localhost:8080/"
        },
        "id": "j3H6cmuo3qvi",
        "outputId": "8112f5cb-a813-4b22-9465-09b1bb29baa7"
      },
      "outputs": [
        {
          "output_type": "stream",
          "name": "stdout",
          "text": [
            "first name:Yassin\n",
            "last name:Taha\n",
            "Taha Yassin\n"
          ]
        }
      ],
      "source": [
        "#question 1, \n",
        "x = input(\"first name:\")\n",
        "y = input(\"last name:\")\n",
        "print (y + \" \" + x)"
      ]
    },
    {
      "cell_type": "code",
      "source": [
        "#question 2\n",
        "n = input()\n",
        "\n",
        "y = n+n\n",
        "z= y + n\n",
        "\n",
        "print(int(n)+int(y)+int(z))"
      ],
      "metadata": {
        "colab": {
          "base_uri": "https://localhost:8080/"
        },
        "id": "4AkuFWdl3t8L",
        "outputId": "0b3b9e82-c318-47fd-e39c-7adb4216fdef"
      },
      "execution_count": null,
      "outputs": [
        {
          "output_type": "stream",
          "name": "stdout",
          "text": [
            "5\n",
            "615\n"
          ]
        }
      ]
    },
    {
      "cell_type": "code",
      "source": [
        "#question 3\n",
        "num=int(input())\n",
        "\n",
        "if num%2==0:\n",
        "\n",
        "   print(\"this number is even\")\n",
        "\n",
        "else:\n",
        "\n",
        "   print(\"this number is odd\")"
      ],
      "metadata": {
        "colab": {
          "base_uri": "https://localhost:8080/"
        },
        "id": "ZtZS_lLm45Zf",
        "outputId": "95665d74-7a2f-4f56-e68f-8c0bfd242e81"
      },
      "execution_count": null,
      "outputs": [
        {
          "output_type": "stream",
          "name": "stdout",
          "text": [
            "5\n",
            "this number is odd\n"
          ]
        }
      ]
    },
    {
      "cell_type": "code",
      "source": [
        "#question 4\n",
        "import math\n",
        "\n",
        "for x in range(2000, 3200):\n",
        "    if (x%7==0):\n",
        "      print(str(x), end=\" \")"
      ],
      "metadata": {
        "colab": {
          "base_uri": "https://localhost:8080/"
        },
        "id": "4uO1188e5tIB",
        "outputId": "d5df9c16-520a-41ec-9c83-1a072d5adf28"
      },
      "execution_count": null,
      "outputs": [
        {
          "output_type": "stream",
          "name": "stdout",
          "text": [
            "2002 2009 2016 2023 2030 2037 2044 2051 2058 2065 2072 2079 2086 2093 2100 2107 2114 2121 2128 2135 2142 2149 2156 2163 2170 2177 2184 2191 2198 2205 2212 2219 2226 2233 2240 2247 2254 2261 2268 2275 2282 2289 2296 2303 2310 2317 2324 2331 2338 2345 2352 2359 2366 2373 2380 2387 2394 2401 2408 2415 2422 2429 2436 2443 2450 2457 2464 2471 2478 2485 2492 2499 2506 2513 2520 2527 2534 2541 2548 2555 2562 2569 2576 2583 2590 2597 2604 2611 2618 2625 2632 2639 2646 2653 2660 2667 2674 2681 2688 2695 2702 2709 2716 2723 2730 2737 2744 2751 2758 2765 2772 2779 2786 2793 2800 2807 2814 2821 2828 2835 2842 2849 2856 2863 2870 2877 2884 2891 2898 2905 2912 2919 2926 2933 2940 2947 2954 2961 2968 2975 2982 2989 2996 3003 3010 3017 3024 3031 3038 3045 3052 3059 3066 3073 3080 3087 3094 3101 3108 3115 3122 3129 3136 3143 3150 3157 3164 3171 3178 3185 3192 3199 "
          ]
        }
      ]
    },
    {
      "cell_type": "code",
      "source": [
        "#question 5, used some help from github\n",
        "def factorial(n):\n",
        "    value = 1\n",
        "    for i in range(1, n+1):\n",
        "        value = value * i\n",
        "    return value\n",
        "\n",
        "number = int(input())\n",
        "print(factorial(number))\n"
      ],
      "metadata": {
        "colab": {
          "base_uri": "https://localhost:8080/",
          "height": 130
        },
        "id": "AnyZGjq_C-jH",
        "outputId": "409778bc-2c40-47ef-bc73-3efa1696f627"
      },
      "execution_count": null,
      "outputs": [
        {
          "output_type": "error",
          "ename": "SyntaxError",
          "evalue": "ignored",
          "traceback": [
            "\u001b[0;36m  File \u001b[0;32m\"<ipython-input-239-115f08a1ff95>\"\u001b[0;36m, line \u001b[0;32m2\u001b[0m\n\u001b[0;31m    (n):\u001b[0m\n\u001b[0m        ^\u001b[0m\n\u001b[0;31mSyntaxError\u001b[0m\u001b[0;31m:\u001b[0m invalid syntax\n"
          ]
        }
      ]
    },
    {
      "cell_type": "code",
      "source": [
        "#question 6, couldnt make"
      ],
      "metadata": {
        "id": "jStkBQxbGiF1"
      },
      "execution_count": null,
      "outputs": []
    },
    {
      "cell_type": "code",
      "source": [
        "#question 7\n",
        "\n",
        "x = int(input())\n",
        "\n",
        "if x > 499:\n",
        "  print(\"50% off\")\n",
        "\n",
        "if x > 199 and x < 500:\n",
        "  print(\"30%\")\n",
        "\n",
        "if x < 199:\n",
        "  print(\"10%\")\n",
        "\n"
      ],
      "metadata": {
        "colab": {
          "base_uri": "https://localhost:8080/"
        },
        "id": "QSXRSUidHY7d",
        "outputId": "24179c63-20a0-4bc8-d156-1803ac28eb97"
      },
      "execution_count": null,
      "outputs": [
        {
          "output_type": "stream",
          "name": "stdout",
          "text": [
            "150\n",
            "10%\n"
          ]
        }
      ]
    }
  ]
}